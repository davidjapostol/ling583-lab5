{
 "cells": [
  {
   "cell_type": "markdown",
   "id": "smaller-seeking",
   "metadata": {},
   "source": [
    "# LAB 5: Text classification with Naive Bayes\n",
    "\n",
    "Objectives:\n",
    "\n",
    "* Train and evaluate Naive Bayes text classifiers\n",
    "* Cross-validation\n",
    "* Hyperparameter search"
   ]
  },
  {
   "cell_type": "code",
   "execution_count": 1,
   "id": "magnetic-maker",
   "metadata": {},
   "outputs": [],
   "source": [
    "import numpy as np\n",
    "import pandas as pd\n",
    "from cytoolz import *\n",
    "from tqdm.auto import tqdm\n",
    "\n",
    "tqdm.pandas()"
   ]
  },
  {
   "cell_type": "markdown",
   "id": "choice-sierra",
   "metadata": {},
   "source": [
    "### Load and preprocess data"
   ]
  },
  {
   "cell_type": "code",
   "execution_count": 2,
   "id": "willing-canal",
   "metadata": {},
   "outputs": [],
   "source": [
    "df = pd.read_parquet(\n",
    "    \"s3://ling583/rcv1-politics.parquet\", storage_options={\"anon\": True}\n",
    ")"
   ]
  },
  {
   "cell_type": "code",
   "execution_count": 3,
   "id": "boring-playlist",
   "metadata": {},
   "outputs": [],
   "source": [
    "import spacy\n",
    "\n",
    "nlp = spacy.load(\n",
    "    \"en_core_web_sm\",\n",
    "    exclude=[\"tagger\", \"parser\", \"ner\", \"lemmatizer\", \"attribute_ruler\"],\n",
    ")"
   ]
  },
  {
   "cell_type": "code",
   "execution_count": 4,
   "id": "distinct-westminster",
   "metadata": {},
   "outputs": [],
   "source": [
    "def tokenize(text):\n",
    "    doc = nlp.tokenizer(text)\n",
    "    return [t.norm_ for t in doc if t.is_alpha]"
   ]
  },
  {
   "cell_type": "code",
   "execution_count": 5,
   "id": "suburban-daughter",
   "metadata": {},
   "outputs": [
    {
     "data": {
      "application/vnd.jupyter.widget-view+json": {
       "model_id": "aa8ac1124fb74df7995eabf9e30d033e",
       "version_major": 2,
       "version_minor": 0
      },
      "text/plain": [
       "  0%|          | 0/60509 [00:00<?, ?it/s]"
      ]
     },
     "metadata": {},
     "output_type": "display_data"
    }
   ],
   "source": [
    "df[\"tokens\"] = df[\"text\"].progress_apply(tokenize)"
   ]
  },
  {
   "cell_type": "markdown",
   "id": "productive-territory",
   "metadata": {},
   "source": [
    "---\n",
    "\n",
    "### Baseline dummy classifier"
   ]
  },
  {
   "cell_type": "code",
   "execution_count": 6,
   "id": "commercial-banner",
   "metadata": {},
   "outputs": [],
   "source": [
    "from sklearn.dummy import DummyClassifier\n",
    "from sklearn.metrics import classification_report, f1_score\n",
    "from sklearn.model_selection import StratifiedKFold, cross_val_predict, cross_val_score"
   ]
  },
  {
   "cell_type": "markdown",
   "id": "political-spending",
   "metadata": {},
   "source": [
    "Set up five-fold cross-validation. We'll use the same training/test splits for all our experiments so the results will be easier to compare."
   ]
  },
  {
   "cell_type": "code",
   "execution_count": 7,
   "id": "alike-index",
   "metadata": {},
   "outputs": [],
   "source": [
    "cv = StratifiedKFold(n_splits=5, shuffle=True, random_state=5432)"
   ]
  },
  {
   "cell_type": "code",
   "execution_count": 8,
   "id": "dirty-monte",
   "metadata": {},
   "outputs": [
    {
     "data": {
      "text/plain": [
       "array([0.92951578, 0.92951578, 0.92951578, 0.92943315, 0.92950996])"
      ]
     },
     "execution_count": 8,
     "metadata": {},
     "output_type": "execute_result"
    }
   ],
   "source": [
    "baseline = DummyClassifier()\n",
    "cross_val_score(baseline, df[\"tokens\"], df[\"pol\"], cv=cv)"
   ]
  },
  {
   "cell_type": "code",
   "execution_count": 9,
   "id": "south-christmas",
   "metadata": {},
   "outputs": [
    {
     "name": "stdout",
     "output_type": "stream",
     "text": [
      "              precision    recall  f1-score   support\n",
      "\n",
      "       False       0.93      1.00      0.96     56243\n",
      "        True       0.00      0.00      0.00      4266\n",
      "\n",
      "    accuracy                           0.93     60509\n",
      "   macro avg       0.46      0.50      0.48     60509\n",
      "weighted avg       0.86      0.93      0.90     60509\n",
      "\n"
     ]
    },
    {
     "name": "stderr",
     "output_type": "stream",
     "text": [
      "/opt/conda/lib/python3.8/site-packages/sklearn/metrics/_classification.py:1245: UndefinedMetricWarning: Precision and F-score are ill-defined and being set to 0.0 in labels with no predicted samples. Use `zero_division` parameter to control this behavior.\n",
      "  _warn_prf(average, modifier, msg_start, len(result))\n",
      "/opt/conda/lib/python3.8/site-packages/sklearn/metrics/_classification.py:1245: UndefinedMetricWarning: Precision and F-score are ill-defined and being set to 0.0 in labels with no predicted samples. Use `zero_division` parameter to control this behavior.\n",
      "  _warn_prf(average, modifier, msg_start, len(result))\n",
      "/opt/conda/lib/python3.8/site-packages/sklearn/metrics/_classification.py:1245: UndefinedMetricWarning: Precision and F-score are ill-defined and being set to 0.0 in labels with no predicted samples. Use `zero_division` parameter to control this behavior.\n",
      "  _warn_prf(average, modifier, msg_start, len(result))\n"
     ]
    }
   ],
   "source": [
    "predicted = cross_val_predict(baseline, df[\"tokens\"], df[\"pol\"], cv=cv)\n",
    "print(classification_report(df[\"pol\"], predicted))"
   ]
  },
  {
   "cell_type": "markdown",
   "id": "generous-cholesterol",
   "metadata": {},
   "source": [
    "----\n",
    "\n",
    "### Bernoulli Naive Bayes"
   ]
  },
  {
   "cell_type": "code",
   "execution_count": 10,
   "id": "subject-doubt",
   "metadata": {},
   "outputs": [],
   "source": [
    "from sklearn.feature_extraction.text import CountVectorizer\n",
    "from sklearn.naive_bayes import BernoulliNB\n",
    "from sklearn.pipeline import make_pipeline"
   ]
  },
  {
   "cell_type": "markdown",
   "id": "killing-pilot",
   "metadata": {},
   "source": [
    "Set up a pipeline: first convert tokenized text into feature vectors, then apply naive Bayes classifier"
   ]
  },
  {
   "cell_type": "code",
   "execution_count": 11,
   "id": "sustainable-mustang",
   "metadata": {},
   "outputs": [],
   "source": [
    "bnb = make_pipeline(CountVectorizer(analyzer=identity), BernoulliNB())"
   ]
  },
  {
   "cell_type": "code",
   "execution_count": 12,
   "id": "advanced-verification",
   "metadata": {},
   "outputs": [
    {
     "name": "stdout",
     "output_type": "stream",
     "text": [
      "              precision    recall  f1-score   support\n",
      "\n",
      "       False       0.98      0.90      0.93     56243\n",
      "        True       0.35      0.73      0.47      4266\n",
      "\n",
      "    accuracy                           0.88     60509\n",
      "   macro avg       0.66      0.81      0.70     60509\n",
      "weighted avg       0.93      0.88      0.90     60509\n",
      "\n"
     ]
    }
   ],
   "source": [
    "predicted = cross_val_predict(bnb, df[\"tokens\"], df[\"pol\"], cv=cv, n_jobs=-1)\n",
    "print(classification_report(df[\"pol\"], predicted))"
   ]
  },
  {
   "cell_type": "markdown",
   "id": "according-kennedy",
   "metadata": {},
   "source": [
    "---\n",
    "\n",
    "### Hyperparameter search"
   ]
  },
  {
   "cell_type": "code",
   "execution_count": 13,
   "id": "progressive-bermuda",
   "metadata": {},
   "outputs": [
    {
     "data": {
      "text/html": [
       "<table style=\"border: 2px solid white;\">\n",
       "<tr>\n",
       "<td style=\"vertical-align: top; border: 0px solid white\">\n",
       "<h3 style=\"text-align: left;\">Client</h3>\n",
       "<ul style=\"text-align: left; list-style: none; margin: 0; padding: 0;\">\n",
       "  <li><b>Scheduler: </b>tcp://127.0.0.1:46039</li>\n",
       "  <li><b>Dashboard: </b><a href='http://127.0.0.1:8787/status' target='_blank'>http://127.0.0.1:8787/status</a></li>\n",
       "</ul>\n",
       "</td>\n",
       "<td style=\"vertical-align: top; border: 0px solid white\">\n",
       "<h3 style=\"text-align: left;\">Cluster</h3>\n",
       "<ul style=\"text-align: left; list-style:none; margin: 0; padding: 0;\">\n",
       "  <li><b>Workers: </b>4</li>\n",
       "  <li><b>Cores: </b>4</li>\n",
       "  <li><b>Memory: </b>16.67 GB</li>\n",
       "</ul>\n",
       "</td>\n",
       "</tr>\n",
       "</table>"
      ],
      "text/plain": [
       "<Client: 'tcp://127.0.0.1:46039' processes=4 threads=4, memory=16.67 GB>"
      ]
     },
     "execution_count": 13,
     "metadata": {},
     "output_type": "execute_result"
    }
   ],
   "source": [
    "from dask.distributed import Client\n",
    "\n",
    "client = Client(\"tcp://127.0.0.1:46039\")\n",
    "client"
   ]
  },
  {
   "cell_type": "code",
   "execution_count": 14,
   "id": "martial-warehouse",
   "metadata": {},
   "outputs": [],
   "source": [
    "from dask_ml.model_selection import RandomizedSearchCV\n",
    "from scipy.stats.distributions import loguniform, randint, uniform"
   ]
  },
  {
   "cell_type": "code",
   "execution_count": 15,
   "id": "enhanced-fence",
   "metadata": {},
   "outputs": [],
   "source": [
    "from warnings import simplefilter\n",
    "simplefilter(action=\"ignore\", category=FutureWarning)"
   ]
  },
  {
   "cell_type": "code",
   "execution_count": 16,
   "id": "radical-money",
   "metadata": {},
   "outputs": [],
   "source": [
    "bnb = make_pipeline(CountVectorizer(analyzer=identity), BernoulliNB())"
   ]
  },
  {
   "cell_type": "code",
   "execution_count": 17,
   "id": "careful-pavilion",
   "metadata": {},
   "outputs": [
    {
     "name": "stdout",
     "output_type": "stream",
     "text": [
      "CPU times: user 16 s, sys: 1.97 s, total: 18 s\n",
      "Wall time: 1min 49s\n"
     ]
    },
    {
     "data": {
      "text/plain": [
       "RandomizedSearchCV(estimator=Pipeline(steps=[('countvectorizer',\n",
       "                                              CountVectorizer(analyzer=<cyfunction identity at 0x7ff0da2b82b0>)),\n",
       "                                             ('bernoullinb', BernoulliNB())]),\n",
       "                   n_iter=25,\n",
       "                   param_distributions={'bernoullinb__alpha': <scipy.stats._distn_infrastructure.rv_frozen object at 0x7ff00c1b7940>},\n",
       "                   scoring='f1')"
      ]
     },
     "execution_count": 17,
     "metadata": {},
     "output_type": "execute_result"
    }
   ],
   "source": [
    "%%time\n",
    "\n",
    "search = RandomizedSearchCV(\n",
    "    bnb, {\"bernoullinb__alpha\": loguniform(1e-10, 10.0)}, n_iter=25, scoring=\"f1\"\n",
    ")\n",
    "search.fit(df[\"tokens\"], df[\"pol\"])"
   ]
  },
  {
   "cell_type": "code",
   "execution_count": 18,
   "id": "purple-arlington",
   "metadata": {},
   "outputs": [
    {
     "data": {
      "text/plain": [
       "{'bernoullinb__alpha': 7.253633111955697e-10}"
      ]
     },
     "execution_count": 18,
     "metadata": {},
     "output_type": "execute_result"
    }
   ],
   "source": [
    "search.best_params_"
   ]
  },
  {
   "cell_type": "code",
   "execution_count": 19,
   "id": "blind-rachel",
   "metadata": {},
   "outputs": [
    {
     "data": {
      "text/plain": [
       "0.5986429190504056"
      ]
     },
     "execution_count": 19,
     "metadata": {},
     "output_type": "execute_result"
    }
   ],
   "source": [
    "search.best_score_"
   ]
  },
  {
   "cell_type": "code",
   "execution_count": 20,
   "id": "massive-republic",
   "metadata": {},
   "outputs": [],
   "source": [
    "cv_results = pd.DataFrame(search.cv_results_)"
   ]
  },
  {
   "cell_type": "code",
   "execution_count": 21,
   "id": "piano-blond",
   "metadata": {},
   "outputs": [
    {
     "data": {
      "text/plain": [
       "<AxesSubplot:xlabel='param_bernoullinb__alpha', ylabel='mean_test_score'>"
      ]
     },
     "execution_count": 21,
     "metadata": {},
     "output_type": "execute_result"
    },
    {
     "data": {
      "image/png": "[encoded data removed]",
      "text/plain": [
       "<Figure size 432x288 with 1 Axes>"
      ]
     },
     "metadata": {
      "needs_background": "light"
     },
     "output_type": "display_data"
    }
   ],
   "source": [
    "cv_results.plot(\n",
    "    \"param_bernoullinb__alpha\", \"mean_test_score\", kind=\"scatter\", logx=True\n",
    ")"
   ]
  },
  {
   "cell_type": "code",
   "execution_count": 22,
   "id": "vietnamese-plumbing",
   "metadata": {},
   "outputs": [
    {
     "name": "stdout",
     "output_type": "stream",
     "text": [
      "CPU times: user 16.3 s, sys: 1.9 s, total: 18.2 s\n",
      "Wall time: 2min\n"
     ]
    },
    {
     "data": {
      "text/plain": [
       "RandomizedSearchCV(estimator=Pipeline(steps=[('countvectorizer',\n",
       "                                              CountVectorizer(analyzer=<cyfunction identity at 0x7ff0da2b82b0>)),\n",
       "                                             ('bernoullinb', BernoulliNB())]),\n",
       "                   n_iter=25,\n",
       "                   param_distributions={'bernoullinb__alpha': <scipy.stats._distn_infrastructure.rv_frozen object at 0x7feff5c0ba60>,\n",
       "                                        'countvectorizer__min_df': <scipy.stats._distn_infrastructure.rv_frozen object at 0x7feff5bd8370>},\n",
       "                   scoring='f1')"
      ]
     },
     "execution_count": 22,
     "metadata": {},
     "output_type": "execute_result"
    }
   ],
   "source": [
    "%%time\n",
    "\n",
    "search = RandomizedSearchCV(\n",
    "    bnb,\n",
    "    {\n",
    "        \"countvectorizer__min_df\": randint(1, 5),\n",
    "        \"bernoullinb__alpha\": loguniform(1e-10, 1e-5),\n",
    "    },\n",
    "    n_iter=25,\n",
    "    scoring=\"f1\",\n",
    ")\n",
    "search.fit(df[\"tokens\"], df[\"pol\"])"
   ]
  },
  {
   "cell_type": "code",
   "execution_count": 23,
   "id": "satellite-flexibility",
   "metadata": {},
   "outputs": [
    {
     "data": {
      "text/plain": [
       "({'bernoullinb__alpha': 2.61551707429247e-09, 'countvectorizer__min_df': 1},\n",
       " 0.598256620023783)"
      ]
     },
     "execution_count": 23,
     "metadata": {},
     "output_type": "execute_result"
    }
   ],
   "source": [
    "search.best_params_, search.best_score_"
   ]
  },
  {
   "cell_type": "code",
   "execution_count": 24,
   "id": "consolidated-classics",
   "metadata": {},
   "outputs": [],
   "source": [
    "cv_results = pd.DataFrame(search.cv_results_)"
   ]
  },
  {
   "cell_type": "code",
   "execution_count": 25,
   "id": "every-breed",
   "metadata": {},
   "outputs": [
    {
     "data": {
      "text/plain": [
       "<AxesSubplot:xlabel='param_countvectorizer__min_df', ylabel='mean_test_score'>"
      ]
     },
     "execution_count": 25,
     "metadata": {},
     "output_type": "execute_result"
    },
    {
     "data": {
      "image/png": "[encoded data removed]",
      "text/plain": [
       "<Figure size 432x288 with 1 Axes>"
      ]
     },
     "metadata": {
      "needs_background": "light"
     },
     "output_type": "display_data"
    }
   ],
   "source": [
    "cv_results.plot(\"param_countvectorizer__min_df\", \"mean_test_score\", kind=\"scatter\")"
   ]
  },
  {
   "cell_type": "code",
   "execution_count": 26,
   "id": "documentary-convention",
   "metadata": {},
   "outputs": [
    {
     "data": {
      "text/plain": [
       "<AxesSubplot:xlabel='param_bernoullinb__alpha', ylabel='mean_test_score'>"
      ]
     },
     "execution_count": 26,
     "metadata": {},
     "output_type": "execute_result"
    },
    {
     "data": {
      "image/png": "[encoded data removed]",
      "text/plain": [
       "<Figure size 432x288 with 1 Axes>"
      ]
     },
     "metadata": {
      "needs_background": "light"
     },
     "output_type": "display_data"
    }
   ],
   "source": [
    "cv_results.plot(\n",
    "    \"param_bernoullinb__alpha\", \"mean_test_score\", kind=\"scatter\", logx=True\n",
    ")"
   ]
  },
  {
   "cell_type": "code",
   "execution_count": 27,
   "id": "forbidden-lingerie",
   "metadata": {},
   "outputs": [
    {
     "data": {
      "text/plain": [
       "<AxesSubplot:xlabel='param_bernoullinb__alpha', ylabel='mean_test_score'>"
      ]
     },
     "execution_count": 27,
     "metadata": {},
     "output_type": "execute_result"
    },
    {
     "data": {
      "image/png": "[encoded data removed]",
      "text/plain": [
       "<Figure size 432x288 with 2 Axes>"
      ]
     },
     "metadata": {
      "needs_background": "light"
     },
     "output_type": "display_data"
    }
   ],
   "source": [
    "cv_results.plot(\n",
    "    \"param_bernoullinb__alpha\",\n",
    "    \"mean_test_score\",\n",
    "    kind=\"scatter\",\n",
    "    logx=True,\n",
    "    c=\"param_countvectorizer__min_df\",\n",
    "    colormap=\"Set1\",\n",
    ")"
   ]
  },
  {
   "cell_type": "code",
   "execution_count": 28,
   "id": "imperial-observer",
   "metadata": {},
   "outputs": [
    {
     "name": "stdout",
     "output_type": "stream",
     "text": [
      "CPU times: user 16.4 s, sys: 1.87 s, total: 18.3 s\n",
      "Wall time: 3min 55s\n"
     ]
    },
    {
     "data": {
      "text/plain": [
       "RandomizedSearchCV(estimator=Pipeline(steps=[('countvectorizer',\n",
       "                                              CountVectorizer(analyzer=<cyfunction identity at 0x7ff0da2b82b0>)),\n",
       "                                             ('bernoullinb', BernoulliNB())]),\n",
       "                   n_iter=25,\n",
       "                   param_distributions={'bernoullinb__alpha': <scipy.stats._distn_infrastructure.rv_frozen object at 0x7feff4d33850>,\n",
       "                                        'countvectorizer__max_df': <scipy.stats._distn_infrastructure.rv_frozen object at 0x7feff4d01850>,\n",
       "                                        'countvectorizer__min_df': [1]},\n",
       "                   scoring='f1')"
      ]
     },
     "execution_count": 28,
     "metadata": {},
     "output_type": "execute_result"
    }
   ],
   "source": [
    "%%time\n",
    "\n",
    "search = RandomizedSearchCV(\n",
    "    bnb,\n",
    "    {\n",
    "        \"countvectorizer__min_df\": [1],\n",
    "        \"countvectorizer__max_df\": uniform(0.5, 0.5),\n",
    "        \"bernoullinb__alpha\": loguniform(1e-10, 1e-5),\n",
    "    },\n",
    "    n_iter=25,\n",
    "    scoring=\"f1\",\n",
    ")\n",
    "search.fit(df[\"tokens\"], df[\"pol\"])"
   ]
  },
  {
   "cell_type": "code",
   "execution_count": 29,
   "id": "numerical-bloom",
   "metadata": {},
   "outputs": [
    {
     "data": {
      "text/plain": [
       "({'bernoullinb__alpha': 1.1829625772534544e-09,\n",
       "  'countvectorizer__max_df': 0.5144675440747459,\n",
       "  'countvectorizer__min_df': 1},\n",
       " 0.5995250597200942)"
      ]
     },
     "execution_count": 29,
     "metadata": {},
     "output_type": "execute_result"
    }
   ],
   "source": [
    "search.best_params_, search.best_score_"
   ]
  },
  {
   "cell_type": "code",
   "execution_count": 30,
   "id": "dominant-solid",
   "metadata": {},
   "outputs": [
    {
     "data": {
      "text/plain": [
       "<AxesSubplot:xlabel='param_countvectorizer__max_df', ylabel='mean_test_score'>"
      ]
     },
     "execution_count": 30,
     "metadata": {},
     "output_type": "execute_result"
    },
    {
     "data": {
      "image/png": "[encoded data removed]",
      "text/plain": [
       "<Figure size 432x288 with 1 Axes>"
      ]
     },
     "metadata": {
      "needs_background": "light"
     },
     "output_type": "display_data"
    }
   ],
   "source": [
    "cv_results = pd.DataFrame(search.cv_results_)\n",
    "cv_results.plot(\"param_countvectorizer__max_df\", \"mean_test_score\", kind=\"scatter\")"
   ]
  },
  {
   "cell_type": "markdown",
   "id": "inside-generic",
   "metadata": {},
   "source": [
    "---\n",
    "\n",
    "### Evaluate final model"
   ]
  },
  {
   "cell_type": "code",
   "execution_count": 31,
   "id": "bound-oxygen",
   "metadata": {},
   "outputs": [
    {
     "data": {
      "text/plain": [
       "Pipeline(steps=[('countvectorizer',\n",
       "                 CountVectorizer(analyzer=<cyfunction identity at 0x7ff0da2b82b0>,\n",
       "                                 max_df=0.73)),\n",
       "                ('bernoullinb', BernoulliNB(alpha=1e-10))])"
      ]
     },
     "execution_count": 31,
     "metadata": {},
     "output_type": "execute_result"
    }
   ],
   "source": [
    "bnb.set_params(\n",
    "    bernoullinb__alpha=1e-10, countvectorizer__min_df=1, countvectorizer__max_df=0.73\n",
    ")"
   ]
  },
  {
   "cell_type": "code",
   "execution_count": 32,
   "id": "natural-roots",
   "metadata": {},
   "outputs": [
    {
     "name": "stdout",
     "output_type": "stream",
     "text": [
      "              precision    recall  f1-score   support\n",
      "\n",
      "       False       0.98      0.96      0.97     56243\n",
      "        True       0.54      0.68      0.60      4266\n",
      "\n",
      "    accuracy                           0.94     60509\n",
      "   macro avg       0.76      0.82      0.78     60509\n",
      "weighted avg       0.94      0.94      0.94     60509\n",
      "\n"
     ]
    }
   ],
   "source": [
    "predicted = cross_val_predict(bnb, df[\"tokens\"], df[\"pol\"], cv=cv, n_jobs=-1)\n",
    "print(classification_report(df[\"pol\"], predicted))"
   ]
  },
  {
   "cell_type": "code",
   "execution_count": null,
   "id": "stone-chase",
   "metadata": {},
   "outputs": [],
   "source": []
  }
 ],
 "metadata": {
  "kernelspec": {
   "display_name": "Python 3",
   "language": "python",
   "name": "python3"
  },
  "language_info": {
   "codemirror_mode": {
    "name": "ipython",
    "version": 3
   },
   "file_extension": ".py",
   "mimetype": "text/x-python",
   "name": "python",
   "nbconvert_exporter": "python",
   "pygments_lexer": "ipython3",
   "version": "3.8.6"
  }
 },
 "nbformat": 4,
 "nbformat_minor": 5
}
